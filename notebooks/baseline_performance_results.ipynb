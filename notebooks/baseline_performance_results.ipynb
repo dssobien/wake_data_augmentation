{
 "cells": [
  {
   "cell_type": "code",
   "execution_count": null,
   "id": "d1043fe8-6281-4a07-a14d-27810574c774",
   "metadata": {},
   "outputs": [],
   "source": [
    "import os\n",
    "import sys\n",
    "import glob\n",
    "import numpy as np\n",
    "import pandas as pd\n",
    "import seaborn as sns\n",
    "import matplotlib.pyplot as plt\n",
    "\n",
    "sys.path.insert(0, '../src')\n",
    "from classifier_results_metrics import output_metrics_for_augmentation, output_metrics_folds"
   ]
  },
  {
   "cell_type": "code",
   "execution_count": null,
   "id": "b6b6a36f-74ae-40b3-b63b-8e4fea8d330a",
   "metadata": {},
   "outputs": [],
   "source": [
    "baseline_path = \"../outputs_rotation_0/fold\"\n",
    "df_baseline = output_metrics_for_augmentation(baseline_path)\n",
    "df_baseline[\"dim\"] = \"baseline\"\n",
    "df_baseline"
   ]
  },
  {
   "cell_type": "code",
   "execution_count": null,
   "id": "cc514f9e-1b27-4c79-9f9c-ce96debb3995",
   "metadata": {},
   "outputs": [],
   "source": [
    "hue_order = [\"unet\", \"clss\", \"base\"]\n",
    "# bands = [\"C\", \"S\", \"X\"]\n",
    "bands = df_baseline[\"band\"].unique()\n",
    "bands = sorted(list(bands))\n",
    "n_bands = len(bands)\n",
    "f, a = plt.subplots(n_bands, 2, figsize=(15, n_bands*5))\n",
    "a = a.reshape(n_bands, 2)\n",
    "for i, band in enumerate(bands):\n",
    "    sns.boxplot(data=df_baseline.query(f\"band == '{band}'\"), ax=a[i, 0], x=\"test_dir\",\n",
    "                y=\"mcc\", hue=\"model\", hue_order=hue_order)\n",
    "    a[i, 0].set_title(band)\n",
    "    a[i, 0].axhline(y=0, c=\"k\", ls='--',linewidth=0.5)\n",
    "    \n",
    "    sns.barplot(data=df_baseline.query(f\"band == '{band}'\"), ax=a[i, 1], x=\"test_dir\",\n",
    "                y=\"mcc\", hue=\"model\", hue_order=hue_order)\n",
    "    a[i, 1].set_title(band)\n",
    "    a[i, 1].axhline(y=0, c=\"k\", ls='--',linewidth=0.5)\n",
    "plt.show()"
   ]
  },
  {
   "cell_type": "code",
   "execution_count": null,
   "id": "f964e50b-315c-4ac9-bd71-0a1623fd5837",
   "metadata": {},
   "outputs": [],
   "source": [
    "# f, a = plt.subplots(1, 1, figsize=(13, 8))\n",
    "# sns.boxplot(data=df_all.query(\"model == 'unet'\"), ax=a, x=\"test_dir\", y=\"mcc\", hue=\"label\")\n",
    "# plt.show()\n",
    "\n",
    "f, a = plt.subplots(n_bands, 2, figsize=(15, n_bands*5))\n",
    "a = a.reshape(n_bands, 2)\n",
    "for i, band in enumerate(bands):\n",
    "    sns.boxplot(data=df_baseline.query(f\"model == 'unet' and band == '{band}'\"),\n",
    "                ax=a[i, 0], x=\"test_dir\", y=\"mcc\", hue=\"label\")\n",
    "    a[i, 0].set_title(band)\n",
    "    a[i, 0].axhline(y=0, c=\"k\", ls='--',linewidth=0.5)\n",
    "    \n",
    "    sns.barplot(data=df_baseline.query(f\"model == 'unet' and band == '{band}'\"),\n",
    "                ax=a[i, 1], x=\"test_dir\", y=\"mcc\", hue=\"label\")\n",
    "    a[i, 1].set_title(band)\n",
    "    a[i, 1].axhline(y=0, c=\"k\", ls='--',linewidth=0.5)\n",
    "plt.show()"
   ]
  },
  {
   "cell_type": "code",
   "execution_count": null,
   "id": "0eb48eef-59d9-4a96-83a9-01828ac03bc9",
   "metadata": {},
   "outputs": [],
   "source": [
    "rotations = [f\"rotation_{x}\" for x in [0, 90]]\n",
    "n = len(rotations)\n",
    "f, a = plt.subplots(n, 1, figsize=(13, n*4))\n",
    "for i, rotation in enumerate(rotations):\n",
    "    sns.barplot(data=df_baseline.query(f\"model == 'unet' and test_dir == '{rotation}'\"),\n",
    "                ax=a[i], x=\"band\", y=\"mcc\", hue=\"label\")\n",
    "    a[i].set_title(f\"Rotation = {rotation.split('_')[1]}\")\n",
    "    a[i].axhline(y=0, c=\"k\", ls='--',linewidth=0.5)\n",
    "plt.tight_layout()\n",
    "plt.show()"
   ]
  },
  {
   "cell_type": "code",
   "execution_count": null,
   "id": "dd21f8d8-c750-49c0-aa69-4db75e880710",
   "metadata": {},
   "outputs": [],
   "source": [
    "rotations = [f\"rotation_{x}\" for x in [0, 90]]\n",
    "n = len(rotations)\n",
    "f, a = plt.subplots(n, 1, figsize=(13, n*5))\n",
    "for i, rotation in enumerate(rotations):\n",
    "    sns.boxplot(data=df_baseline.query(f\"model == 'unet' and test_dir == '{rotation}'\"),\n",
    "                ax=a[i], x=\"band\", y=\"mcc\", hue=\"label\")\n",
    "    sns.stripplot(data=df_baseline.query(f\"model == 'unet' and test_dir == '{rotation}'\"),\n",
    "                ax=a[i], x=\"band\", y=\"mcc\", hue=\"label\", color='k', dodge=True, jitter=0.3)\n",
    "    a[i].set_title(rotation)\n",
    "    a[i].axhline(y=0, c=\"k\", ls='--',linewidth=0.5)\n",
    "    handles, labels = a[i].get_legend_handles_labels()\n",
    "    l = a[i].legend(handles[0:7], labels[0:7])\n",
    "plt.show()"
   ]
  },
  {
   "cell_type": "code",
   "execution_count": null,
   "id": "52f228b9-a490-4ff2-80c9-bc323d09dffb",
   "metadata": {},
   "outputs": [],
   "source": [
    "import scipy.stats as st\n",
    "def ci_95(data):\n",
    "    ci = st.t.interval(alpha=0.95, df=len(data)-1, loc=np.mean(data), scale=st.sem(data))\n",
    "    interval = (ci[1] - ci[0]) / 2\n",
    "    if interval is np.nan:\n",
    "        return 0\n",
    "    else:\n",
    "        return interval\n",
    "\n",
    "df_baseline.query(\"model == 'unet'\").pivot_table(index=\"label\",\n",
    "                                                 columns=[\"band\", \"test_dir\"],\n",
    "                                                 values=\"mcc\",\n",
    "                                                 aggfunc=[\"mean\", ci_95])"
   ]
  },
  {
   "cell_type": "code",
   "execution_count": null,
   "id": "d96fcf7a-473d-4284-97cc-a215f1d79ee4",
   "metadata": {},
   "outputs": [],
   "source": [
    "df_baseline[\"band\"].value_counts()"
   ]
  },
  {
   "cell_type": "code",
   "execution_count": null,
   "id": "55acb5fe-4cee-4b84-a123-367b426c8306",
   "metadata": {},
   "outputs": [],
   "source": [
    "df_baseline[\"test_dir\"].value_counts()"
   ]
  },
  {
   "cell_type": "code",
   "execution_count": null,
   "id": "16c0df53-6c53-4d7a-b4d4-7f94b73f97ae",
   "metadata": {},
   "outputs": [],
   "source": [
    "df_baseline[\"model\"].value_counts()"
   ]
  },
  {
   "cell_type": "code",
   "execution_count": null,
   "id": "33afd444-69b1-4503-95ae-da6bcd51e335",
   "metadata": {},
   "outputs": [],
   "source": [
    "df_baseline[\"fold\"].value_counts()"
   ]
  },
  {
   "cell_type": "code",
   "execution_count": null,
   "id": "2ba73ddd-e660-47c2-a7fb-b2caa7fc6750",
   "metadata": {},
   "outputs": [],
   "source": []
  }
 ],
 "metadata": {
  "kernelspec": {
   "display_name": "Python 3 (ipykernel)",
   "language": "python",
   "name": "python3"
  },
  "language_info": {
   "codemirror_mode": {
    "name": "ipython",
    "version": 3
   },
   "file_extension": ".py",
   "mimetype": "text/x-python",
   "name": "python",
   "nbconvert_exporter": "python",
   "pygments_lexer": "ipython3",
   "version": "3.8.3"
  }
 },
 "nbformat": 4,
 "nbformat_minor": 5
}
