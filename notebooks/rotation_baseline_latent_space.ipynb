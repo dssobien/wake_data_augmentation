{
 "cells": [
  {
   "cell_type": "code",
   "execution_count": null,
   "id": "d1043fe8-6281-4a07-a14d-27810574c774",
   "metadata": {},
   "outputs": [],
   "source": [
    "import os\n",
    "import sys\n",
    "import glob\n",
    "import numpy as np\n",
    "import pandas as pd\n",
    "import seaborn as sns\n",
    "import matplotlib.pyplot as plt\n",
    "\n",
    "sys.path.insert(0, '../src')\n",
    "from classifier_results_metrics import output_metrics_folds, output_metrics"
   ]
  },
  {
   "cell_type": "code",
   "execution_count": null,
   "id": "f11595a6",
   "metadata": {},
   "outputs": [],
   "source": [
    "def read_dataframe(path_name, filter=None):\n",
    "    df_all = None\n",
    "    thresholds = [0.3, 0.4, 0.5, 0.6, 0.7, 0.8, 0.9]\n",
    "    for i in range(4):\n",
    "        file_names = glob.glob(f\"{path_name}{i}/*.csv\")\n",
    "        file_name = [x for x in file_names if f\"fold{i}\" in x][0]\n",
    "        # df = pr_auc_df(file_name, fold=i)\n",
    "        for t in thresholds:\n",
    "            df = output_metrics_folds(file_name, fold=i, label=f\"threshold_{t}\",\n",
    "                                    metrics=['mcc', 'pr_auc'], threshold=t)\n",
    "            if df_all is None:\n",
    "                df_all = df\n",
    "            else:\n",
    "                df_all = pd.concat([df_all, df])\n",
    "    if filter is not None:\n",
    "        df_all = df_all.query(f\"test_dir == '{filter}'\")\n",
    "    return df_all\n",
    "\n",
    "def read_all_dataframes(path_names, filters):\n",
    "    df_combined = None\n",
    "    for path_name, filter in zip(path_names, filters):\n",
    "        df = read_dataframe(path_name, filter)\n",
    "\n",
    "        if df_combined is None:\n",
    "            df_combined = df\n",
    "        else:\n",
    "            df_combined = pd.concat([df_combined, df])\n",
    "    return df_combined\n",
    "\n",
    "def read_dataframe_look_angle(path_name, filter=None):\n",
    "    meta_data_file_path = \"../data/original_dataset/results.csv\"\n",
    "    meta_data_df = pd.read_csv(meta_data_file_path)\n",
    "    meta_data_df[\"uuid\"] = [f\"000{x}\"[-4:] for x in meta_data_df[\"uuid\"]]\n",
    "    df_look_angle = None\n",
    "    thresholds = [0.9]\n",
    "    for la in [0.0, 90.0, 180.0, 270.0]:\n",
    "        for i in range(4):\n",
    "            fold_path = f\"../data/test_set_fold{i}.txt\"\n",
    "            with open(fold_path, \"r\") as fin:\n",
    "                uuids = [line.strip('\\n') for line in fin.readlines()[1:]]\n",
    "            look_angles = meta_data_df.query(f\"uuid in {uuids}\")[\"look_angle\"].values\n",
    "            \n",
    "            file_names = glob.glob(f\"{path_name}{i}/*.csv\")\n",
    "            file_name = [x for x in file_names if f\"fold{i}\" in x][0]\n",
    "            # df = pr_auc_df(file_name, fold=i)\n",
    "            for t in thresholds:\n",
    "                df = output_metrics_folds_mask(file_name, fold=i, label=f\"threshold_{t}\",\n",
    "                                            metrics=['mcc', 'pr_auc'], threshold=t,\n",
    "                                            indexes=np.where(look_angles == la))\n",
    "                df[\"look_angle\"] = la\n",
    "                if df_look_angle is None:\n",
    "                    df_look_angle = df\n",
    "                else:\n",
    "                    df_look_angle = pd.concat([df_look_angle, df])\n",
    "    if filter is not None:\n",
    "        df_look_angle = df_look_angle.query(f\"test_dir == '{filter}'\")\n",
    "    return df_look_angle\n",
    "\n",
    "def read_all_dataframes_look_angle(path_names, filters):\n",
    "    df_combined = None\n",
    "    for path_name, filter in zip(path_names, filters):\n",
    "        df = read_dataframe_look_angle(path_name, filter)\n",
    "\n",
    "        if df_combined is None:\n",
    "            df_combined = df\n",
    "        else:\n",
    "            df_combined = pd.concat([df_combined, df])\n",
    "    return df_combined\n",
    "\n",
    "def output_metrics_folds_mask(file_path, fold=None, label=None, metrics=['pr_auc'], threshold=0.6,\n",
    "                              indexes=None):\n",
    "    df = pd.read_csv(file_path,\n",
    "            converters={\"conf\": lambda x: np.array(x.strip(\"[]\").replace(\"'\", \"\").split(\", \"))})\n",
    "    if indexes is not None:\n",
    "        df[\"conf\"] = df.apply(lambda row: row[\"conf\"][indexes] if row[\"iteration\"] != -1 else row[\"conf\"], axis=1)\n",
    "    final_results = df[df[\"iteration\"] == -1]\n",
    "    df = df[df[\"iteration\"] != -1]\n",
    "    df = output_metrics(df, metrics=metrics, threshold=threshold).fillna(0)\n",
    "    # df = df[[\"iteration\", \"band\", \"model\", \"test_dir\", \"pr_auc\", \"conf\"]]\n",
    "    if fold is not None:\n",
    "        df.insert(len(df.columns), \"fold\", fold)\n",
    "    if label is not None:\n",
    "        df.insert(len(df.columns), \"label\", label)\n",
    "    for col in ['tp', 'tn', 'fp', 'fn']:\n",
    "        if col in df.columns:\n",
    "            df.drop(col, axis=1, inplace=True)\n",
    "    return df"
   ]
  },
  {
   "cell_type": "code",
   "execution_count": null,
   "id": "984f86b1",
   "metadata": {},
   "outputs": [],
   "source": [
    "path_names = [\"../outputs_baseline_latent_rotation_0/fold\", \"../outputs_baseline_latent_rotation/fold\"]\n",
    "filters = ['rotation_0', 'rotation']\n",
    "df_all = read_all_dataframes(path_names, filters)\n",
    "df_all"
   ]
  },
  {
   "cell_type": "code",
   "execution_count": null,
   "id": "73bf07ef-0bce-4f57-88e6-4c8267378f7b",
   "metadata": {},
   "outputs": [],
   "source": [
    "df_look_angle = read_all_dataframes_look_angle(path_names, filters)\n",
    "df_look_angle"
   ]
  },
  {
   "cell_type": "code",
   "execution_count": null,
   "id": "1d24af31-24a6-4c0a-8d97-77eb91be9c81",
   "metadata": {},
   "outputs": [],
   "source": [
    "f, a = plt.subplots(2, 1, figsize=(13, 2*8))\n",
    "sns.barplot(data=df_all.query(\"model == 'unet' and test_dir == 'rotation_0'\"),\n",
    "            ax=a[0], x=\"test_band\", y=\"mcc\", hue=\"label\")\n",
    "sns.barplot(data=df_all.query(\"model == 'unet' and test_dir == 'rotation'\"),\n",
    "            ax=a[1], x=\"test_band\", y=\"mcc\", hue=\"label\")\n",
    "plt.show()"
   ]
  },
  {
   "cell_type": "code",
   "execution_count": null,
   "id": "0eb48eef-59d9-4a96-83a9-01828ac03bc9",
   "metadata": {},
   "outputs": [],
   "source": [
    "f, a = plt.subplots(2, 1, figsize=(13, 2*8))\n",
    "sns.barplot(data=df_look_angle.query(\"model == 'unet' and test_dir == 'rotation_0'\"),\n",
    "            ax=a[0], x=\"test_band\", y=\"mcc\", hue=\"look_angle\")\n",
    "sns.barplot(data=df_look_angle.query(\"model == 'unet' and test_dir == 'rotation'\"),\n",
    "            ax=a[1], x=\"test_band\", y=\"mcc\", hue=\"look_angle\")\n",
    "plt.show()"
   ]
  },
  {
   "cell_type": "code",
   "execution_count": null,
   "id": "40888a61-4e65-4b79-ba7c-4782e22b89fa",
   "metadata": {},
   "outputs": [],
   "source": [
    "df_look_angle.query(\"model == 'unet' and \"\n",
    "             \"label == 'threshold_0.9' and \" \n",
    "             \"test_dir == 'rotation_0' and \"\n",
    "             \"test_band == 'X'\")"
   ]
  },
  {
   "cell_type": "code",
   "execution_count": null,
   "id": "7b240725",
   "metadata": {},
   "outputs": [],
   "source": [
    "df_look_angle.query(\"model == 'unet' and \"\n",
    "             \"label == 'threshold_0.9' and \" \n",
    "             \"test_dir == 'rotation' and \"\n",
    "             \"test_band == 'X'\")"
   ]
  },
  {
   "cell_type": "code",
   "execution_count": null,
   "id": "2783631b",
   "metadata": {},
   "outputs": [],
   "source": []
  }
 ],
 "metadata": {
  "kernelspec": {
   "display_name": "Python 3 (ipykernel)",
   "language": "python",
   "name": "python3"
  },
  "language_info": {
   "codemirror_mode": {
    "name": "ipython",
    "version": 3
   },
   "file_extension": ".py",
   "mimetype": "text/x-python",
   "name": "python",
   "nbconvert_exporter": "python",
   "pygments_lexer": "ipython3",
   "version": "3.8.3"
  }
 },
 "nbformat": 4,
 "nbformat_minor": 5
}
