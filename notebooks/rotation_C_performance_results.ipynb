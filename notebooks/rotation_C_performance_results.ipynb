{
 "cells": [
  {
   "cell_type": "code",
   "execution_count": null,
   "id": "d1043fe8-6281-4a07-a14d-27810574c774",
   "metadata": {},
   "outputs": [],
   "source": [
    "import os\n",
    "import sys\n",
    "import glob\n",
    "import numpy as np\n",
    "import pandas as pd\n",
    "import seaborn as sns\n",
    "import matplotlib.pyplot as plt\n",
    "\n",
    "sys.path.insert(0, '../src')\n",
    "from classifier_results_metrics import output_metrics_for_augmentation, output_metrics_folds, output_metrics"
   ]
  },
  {
   "cell_type": "code",
   "execution_count": null,
   "id": "9b857137-2767-4759-9af8-79c943fff229",
   "metadata": {},
   "outputs": [],
   "source": [
    "# def output_metrics_for_augmentation(path_name):\n",
    "#     df_all = None\n",
    "#     thresholds = [0.3, 0.4, 0.5, 0.6, 0.7, 0.8, 0.9]\n",
    "#     for i in range(4):\n",
    "#         file_names = glob.glob(f\"{path_name}{i}/*.csv\")\n",
    "#         file_name = [x for x in file_names if f\"fold{i}\" in x][0]\n",
    "#         # df = pr_auc_df(file_name, fold=i)\n",
    "#         for t in thresholds:\n",
    "#             df = output_metrics_folds(file_name, fold=i, label=f\"threshold_{t}\",\n",
    "#                                       metrics=['mcc', 'pr_auc'], threshold=t)\n",
    "#             if df_all is None:\n",
    "#                 df_all = df\n",
    "#             else:\n",
    "#                 df_all = pd.concat([df_all, df])\n",
    "#     return df_all.reset_index(drop=True)\n",
    "\n",
    "dims = [\"2D\", \"5D\", \"10D\", \"all\"]\n",
    "df_all = None\n",
    "# base_path = \"/home/sdan8/dataFusion/latent_space_performance_study/data/rotation_combined_aug_5i_circ_1/\"\n",
    "for dim in dims:\n",
    "    # path_name = f\"{base_path}outputs_rotation_C_{dim}_circ_1_fold\"\n",
    "    path_name = f\"../outputs_rotation_C_{dim}/fold\"\n",
    "    df = output_metrics_for_augmentation(path_name)\n",
    "    df[\"dim\"] = dim\n",
    "    # df.reset_index(drop=True)\n",
    "    \n",
    "    if df_all is None:\n",
    "        df_all = df\n",
    "    else:\n",
    "        df_all = pd.concat([df_all, df])\n",
    "df_all = df_all.reset_index(drop=True)\n",
    "df_all"
   ]
  },
  {
   "cell_type": "code",
   "execution_count": null,
   "id": "b6b6a36f-74ae-40b3-b63b-8e4fea8d330a",
   "metadata": {},
   "outputs": [],
   "source": [
    "baseline_path = \"../outputs_rotation_0/fold\"\n",
    "df_baseline = output_metrics_for_augmentation(baseline_path).query(\"band == 'C'\")\n",
    "df_baseline[\"dim\"] = \"baseline\"\n",
    "df_baseline"
   ]
  },
  {
   "cell_type": "code",
   "execution_count": null,
   "id": "4c4ce703-7d6e-47d9-be64-b6f985c64fa7",
   "metadata": {},
   "outputs": [],
   "source": [
    "df_all = pd.concat([df_all, df_baseline]).reset_index(drop=True)"
   ]
  },
  {
   "cell_type": "code",
   "execution_count": null,
   "id": "cc514f9e-1b27-4c79-9f9c-ce96debb3995",
   "metadata": {},
   "outputs": [],
   "source": [
    "hue_order = [\"unet\", \"clss\", \"base\"]\n",
    "dims = [\"2D\", \"5D\", \"10D\", \"all\", \"baseline\"]\n",
    "n = len(dims)\n",
    "f, a = plt.subplots(n, 1, figsize=(13, n*4))\n",
    "for i, dim in enumerate(dims):\n",
    "    sns.boxplot(data=df_all.query(f\"dim == '{dim}'\"), ax=a[i], x=\"test_dir\",\n",
    "                y=\"mcc\", hue=\"model\", hue_order=hue_order)\n",
    "    a[i].set_title(dim)\n",
    "    a[i].axhline(y=0, c=\"k\", ls='--',linewidth=0.5)\n",
    "plt.show()"
   ]
  },
  {
   "cell_type": "code",
   "execution_count": null,
   "id": "f964e50b-315c-4ac9-bd71-0a1623fd5837",
   "metadata": {},
   "outputs": [],
   "source": [
    "# f, a = plt.subplots(1, 1, figsize=(13, 8))\n",
    "# sns.boxplot(data=df_all.query(\"model == 'unet'\"), ax=a, x=\"test_dir\", y=\"mcc\", hue=\"label\")\n",
    "# plt.show()\n",
    "\n",
    "f, a = plt.subplots(n, 1, figsize=(13, n*4))\n",
    "for i, dim in enumerate(dims):\n",
    "    sns.boxplot(data=df_all.query(f\"model == 'unet' and dim == '{dim}'\"),\n",
    "                ax=a[i], x=\"test_dir\", y=\"mcc\", hue=\"label\")\n",
    "    a[i].set_title(dim)\n",
    "    a[i].axhline(y=0, c=\"k\", ls='--',linewidth=0.5)\n",
    "plt.show()"
   ]
  },
  {
   "cell_type": "code",
   "execution_count": null,
   "id": "0eb48eef-59d9-4a96-83a9-01828ac03bc9",
   "metadata": {},
   "outputs": [],
   "source": [
    "rotations = [f\"rotation_{x}\" for x in [0, 90]]\n",
    "n = len(rotations)\n",
    "f, a = plt.subplots(n, 1, figsize=(21, n*5.5))\n",
    "for i, rotation in enumerate(rotations):\n",
    "    sns.barplot(data=df_all.query(f\"model == 'unet' and test_dir == '{rotation}'\"),\n",
    "                ax=a[i], x=\"dim\", y=\"mcc\", hue=\"label\")\n",
    "    a[i].set_title(f\"Rotation = {rotation.split('_')[1]}\")\n",
    "    a[i].axhline(y=0, c=\"k\", ls='--',linewidth=0.5)\n",
    "    a[i].set_ylabel(\"MCC\")\n",
    "    a[i].set_xlabel(\"\")\n",
    "fs = 16\n",
    "plt.rc('xtick', labelsize=fs)\n",
    "plt.rc('ytick', labelsize=fs)\n",
    "plt.rc('axes', labelsize=fs)\n",
    "plt.rc('figure', titlesize=20)\n",
    "plt.rc('font', size=12)\n",
    "plt.show()"
   ]
  },
  {
   "cell_type": "code",
   "execution_count": null,
   "id": "dd21f8d8-c750-49c0-aa69-4db75e880710",
   "metadata": {},
   "outputs": [],
   "source": [
    "rotations = [f\"rotation_{x}\" for x in [0, 90]]\n",
    "n = len(rotations)\n",
    "f, a = plt.subplots(n, 1, figsize=(21, n*5))\n",
    "for i, rotation in enumerate(rotations):\n",
    "    sns.boxplot(data=df_all.query(f\"model == 'unet' and test_dir == '{rotation}'\"),\n",
    "                ax=a[i], x=\"dim\", y=\"mcc\", hue=\"label\")\n",
    "    sns.stripplot(data=df_all.query(f\"model == 'unet' and test_dir == '{rotation}'\"),\n",
    "                ax=a[i], x=\"dim\", y=\"mcc\", hue=\"label\", color='k', dodge=True, jitter=0.3)\n",
    "    a[i].set_title(rotation)\n",
    "    a[i].axhline(y=0, c=\"k\", ls='--',linewidth=0.5)\n",
    "    handles, labels = a[i].get_legend_handles_labels()\n",
    "    l = a[i].legend(handles[0:7], labels[0:7])\n",
    "plt.show()"
   ]
  },
  {
   "cell_type": "code",
   "execution_count": null,
   "id": "c1c6c36f-10fe-405c-9d0a-2c54328dc1fd",
   "metadata": {},
   "outputs": [],
   "source": [
    "import scipy.stats as st\n",
    "def ci_95(data):\n",
    "    ci = st.t.interval(alpha=0.95, df=len(data)-1, loc=np.mean(data), scale=st.sem(data))\n",
    "    interval = (ci[1] - ci[0]) / 2\n",
    "    if interval is np.nan:\n",
    "        return 0\n",
    "    else:\n",
    "        return interval\n",
    "\n",
    "df_all.query(\"model == 'unet'\").pivot_table(index=[\"dim\", \"label\"],\n",
    "                                            columns=[\"band\", \"test_dir\"],\n",
    "                                            values=\"mcc\",\n",
    "                                            aggfunc=[\"mean\", ci_95])"
   ]
  },
  {
   "cell_type": "code",
   "execution_count": null,
   "id": "d96fcf7a-473d-4284-97cc-a215f1d79ee4",
   "metadata": {},
   "outputs": [],
   "source": [
    "df_all[\"dim\"].value_counts()"
   ]
  },
  {
   "cell_type": "code",
   "execution_count": null,
   "id": "55acb5fe-4cee-4b84-a123-367b426c8306",
   "metadata": {},
   "outputs": [],
   "source": []
  }
 ],
 "metadata": {
  "kernelspec": {
   "display_name": "Python 3 (ipykernel)",
   "language": "python",
   "name": "python3"
  },
  "language_info": {
   "codemirror_mode": {
    "name": "ipython",
    "version": 3
   },
   "file_extension": ".py",
   "mimetype": "text/x-python",
   "name": "python",
   "nbconvert_exporter": "python",
   "pygments_lexer": "ipython3",
   "version": "3.8.3"
  }
 },
 "nbformat": 4,
 "nbformat_minor": 5
}
